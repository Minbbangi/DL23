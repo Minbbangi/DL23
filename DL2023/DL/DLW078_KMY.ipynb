{
  "nbformat": 4,
  "nbformat_minor": 0,
  "metadata": {
    "colab": {
      "provenance": [],
      "authorship_tag": "ABX9TyP3BOWu1BeCU2AaFMzQL7VY",
      "include_colab_link": true
    },
    "kernelspec": {
      "name": "python3",
      "display_name": "Python 3"
    },
    "language_info": {
      "name": "python"
    }
  },
  "cells": [
    {
      "cell_type": "markdown",
      "metadata": {
        "id": "view-in-github",
        "colab_type": "text"
      },
      "source": [
        "<a href=\"https://colab.research.google.com/github/Minbbangi/DL23/blob/main/DL2023/DL/DLW078_KMY.ipynb\" target=\"_parent\"><img src=\"https://colab.research.google.com/assets/colab-badge.svg\" alt=\"Open In Colab\"/></a>"
      ]
    },
    {
      "cell_type": "markdown",
      "source": [
        "* Strings: A string is a sequence of characters enclosed in single or double quotes. Examples: \"Hello, world!\" or 'Python is great!'\n",
        "* Integers: Integers are whole numbers, positive or negative, without any decimal points. Examples: 42, -5, 0"
      ],
      "metadata": {
        "id": "GR-2pA_Ae4m8"
      }
    },
    {
      "cell_type": "code",
      "source": [
        "greeting = \"Hello, students!\"\n",
        "year = 2023"
      ],
      "metadata": {
        "id": "m9KFV5NGfvaY"
      },
      "execution_count": 3,
      "outputs": []
    },
    {
      "cell_type": "code",
      "source": [
        "print(greeting)\n",
        "print(year)"
      ],
      "metadata": {
        "colab": {
          "base_uri": "https://localhost:8080/"
        },
        "id": "yWILjD8rgywA",
        "outputId": "ccbb777a-902c-4ab8-a316-ab9c9a4d8d9a"
      },
      "execution_count": 4,
      "outputs": [
        {
          "output_type": "stream",
          "name": "stdout",
          "text": [
            "Hello, students!\n",
            "2023\n"
          ]
        }
      ]
    },
    {
      "cell_type": "code",
      "source": [
        "message = greeting + \" \" + str(year)\n",
        "print(message)"
      ],
      "metadata": {
        "colab": {
          "base_uri": "https://localhost:8080/"
        },
        "id": "w6TfmwjKhRWO",
        "outputId": "5efe4c87-f57f-4605-be59-3141e422a682"
      },
      "execution_count": 6,
      "outputs": [
        {
          "output_type": "stream",
          "name": "stdout",
          "text": [
            "Hello, students! 2023\n"
          ]
        }
      ]
    },
    {
      "cell_type": "code",
      "source": [
        "num1=10\n",
        "num2=3\n",
        "\n",
        "# Addition\n",
        "print(num1 + num2)\n",
        "# Subtraction\n",
        "print(num1 - num2)\n",
        "# Multiplication\n",
        "print(num2 * num2)\n",
        "# Division\n",
        "print(num1 / num2)"
      ],
      "metadata": {
        "colab": {
          "base_uri": "https://localhost:8080/"
        },
        "id": "gIs_BtIrhfzc",
        "outputId": "f3617214-7f62-4504-c991-18f313dd78e8"
      },
      "execution_count": 7,
      "outputs": [
        {
          "output_type": "stream",
          "name": "stdout",
          "text": [
            "13\n",
            "7\n",
            "9\n",
            "3.3333333333333335\n"
          ]
        }
      ]
    },
    {
      "cell_type": "code",
      "source": [
        "# Prompt user for input\n",
        "user_string = input(\"Please enter a string :\")\n",
        "user_number = int(input(\"Please enter a number :\"))\n",
        "\n",
        "# Print string repeated user_number times\n",
        "print(user_string * user_number)"
      ],
      "metadata": {
        "colab": {
          "base_uri": "https://localhost:8080/"
        },
        "id": "YPRcBWzeiEPV",
        "outputId": "e8bcd511-90db-4062-9b73-1a8a2185c3fb"
      },
      "execution_count": 10,
      "outputs": [
        {
          "output_type": "stream",
          "name": "stdout",
          "text": [
            "Please enter a string :김민영\n",
            "Please enter a number :3\n",
            "김민영김민영김민영\n"
          ]
        }
      ]
    },
    {
      "cell_type": "code",
      "source": [
        "# Define the string\n",
        "sentence = \"Coding is fun and easy to learn\"\n",
        "\n",
        "# Split the string into words and store them in a list\n",
        "word_list = sentence.split()\n",
        "\n",
        "# Print the list of words\n",
        "print(word_list)"
      ],
      "metadata": {
        "colab": {
          "base_uri": "https://localhost:8080/"
        },
        "id": "7RJtzfdOjIDE",
        "outputId": "5066f02d-f346-431f-86f5-bfb4191eee42"
      },
      "execution_count": 12,
      "outputs": [
        {
          "output_type": "stream",
          "name": "stdout",
          "text": [
            "['Coding', 'is', 'fun', 'and', 'easy', 'to', 'learn']\n"
          ]
        }
      ]
    },
    {
      "cell_type": "code",
      "source": [
        "# Define the string\n",
        "text = \"Coding is Exciting!\"\n",
        "\n",
        "# Convert to uppercase and store in a variable\n",
        "uppercase_text = text.upper()\n",
        "\n",
        "# Convert to lowercase and store in a variable\n",
        "lowercase_text = text.lower()\n",
        "\n",
        "# Print both versions of the string\n",
        "print(uppercase_text)\n",
        "print(lowercase_text)"
      ],
      "metadata": {
        "colab": {
          "base_uri": "https://localhost:8080/"
        },
        "id": "wWeLSO_WjvAP",
        "outputId": "21fe95ea-2bf2-4342-d2ed-c7d39cad6519"
      },
      "execution_count": 14,
      "outputs": [
        {
          "output_type": "stream",
          "name": "stdout",
          "text": [
            "CODING IS EXCITING!\n",
            "coding is exciting!\n"
          ]
        }
      ]
    },
    {
      "cell_type": "code",
      "source": [
        "quote = \"To be or not to be, that is the question\"\n",
        "print(quote[0])\n",
        "print(quote[-1])\n",
        "print(quote[:5])\n",
        "print(quote[5:])\n",
        "print(quote[::-1])"
      ],
      "metadata": {
        "colab": {
          "base_uri": "https://localhost:8080/"
        },
        "id": "diMhbTsekbzK",
        "outputId": "1215e4ef-3c03-4f6f-99f4-cabd0e4d7c7e"
      },
      "execution_count": 21,
      "outputs": [
        {
          "output_type": "stream",
          "name": "stdout",
          "text": [
            "T\n",
            "n\n",
            "To be\n",
            " or not to be, that is the question\n",
            "noitseuq eht si taht ,eb ot ton ro eb oT\n"
          ]
        }
      ]
    }
  ]
}