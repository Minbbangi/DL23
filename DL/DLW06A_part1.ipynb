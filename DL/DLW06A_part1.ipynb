{
  "nbformat": 4,
  "nbformat_minor": 0,
  "metadata": {
    "colab": {
      "provenance": [],
      "include_colab_link": true
    },
    "kernelspec": {
      "name": "python3",
      "display_name": "Python 3"
    },
    "language_info": {
      "name": "python"
    }
  },
  "cells": [
    {
      "cell_type": "markdown",
      "metadata": {
        "id": "view-in-github",
        "colab_type": "text"
      },
      "source": [
        "<a href=\"https://colab.research.google.com/github/Minbbangi/DL23/blob/main/DL/DLW06A_part1.ipynb\" target=\"_parent\"><img src=\"https://colab.research.google.com/assets/colab-badge.svg\" alt=\"Open In Colab\"/></a>"
      ]
    },
    {
      "cell_type": "markdown",
      "source": [
        "# 🌀**DLW06A Part I (4/12)** Coding and Language games"
      ],
      "metadata": {
        "id": "_mbT_YJKGkm-"
      }
    },
    {
      "cell_type": "markdown",
      "source": [
        "# 💕 Goal: Creating an app similar to **_Word Guessing Game from Hints_**\n",
        "\n",
        "We will be spending 2 weeks to get this go."
      ],
      "metadata": {
        "id": "ppmHMRdisMiv"
      }
    },
    {
      "cell_type": "markdown",
      "source": [
        "##💦 **Demo 1: Making a word quiz.**"
      ],
      "metadata": {
        "id": "MWpQZGE5wZgt"
      }
    },
    {
      "cell_type": "code",
      "source": [
        "#@markdown Run this code to see guesiong game\n",
        "import random\n",
        "\n",
        "# Define a dictionary of words and their hints\n",
        "word_hints = {\n",
        "    \"suprasegmental\": [\n",
        "        \"This term is related to the features of speech that go beyond individual sounds.\",\n",
        "        \"It is often associated with intonation, stress, and timing.\",\n",
        "        \"Examples include pitch, tone, and stress patterns.\",\n",
        "        \"The answer begins with 's'.\"\n",
        "    ],\n",
        "    \"geminate\": [\n",
        "        \"This term is related to a specific type of consonant.\",\n",
        "        \"It refers to a consonant that is pronounced for a longer duration than its regular counterpart.\",\n",
        "        \"In some languages, it can be represented by doubling the consonant in writing.\",\n",
        "        \"The answer begins with 'g'.\"\n",
        "    ],\n",
        "    \"syllable\": [\n",
        "        \"This term is related to a unit of speech.\",\n",
        "        \"It is a sequence of speech sounds, typically consisting of a vowel and any surrounding consonants.\",\n",
        "        \"A word can have one or multiple of these units.\",\n",
        "        \"The answer begins with 's'.\"\n",
        "    ]\n",
        "}\n",
        "\n",
        "# Define guessing game\n",
        "\n",
        "def guessing_game(word_hints):\n",
        "    words = list(word_hints.keys())\n",
        "    random.shuffle(words)\n",
        "\n",
        "    for word in words:\n",
        "        print(\"\\nGuess the word based on the following hints:\")\n",
        "        hints = word_hints[word]\n",
        "        attempts = 0\n",
        "\n",
        "        while attempts < len(hints):\n",
        "            print(f\"Hint {attempts + 1}: {hints[attempts]}\")\n",
        "            guess = input(\"Your guess: \").strip().lower()\n",
        "\n",
        "            if guess == word.lower():\n",
        "                print(\"Congratulations! You guessed the correct word!\\n\")\n",
        "                break\n",
        "            else:\n",
        "                print(\"Incorrect. Try again with another hint.\\n\")\n",
        "                attempts += 1\n",
        "\n",
        "        if attempts == len(hints):\n",
        "            print(f\"Sorry, you've run out of hints. The correct word was: {word}\\n\")\n",
        "\n",
        "# Using this conditional structure is a common practice in Python to allow a script to be both executed as a standalone program and imported as a module in other scripts without immediately running the code within the script.\n",
        "if __name__ == \"__main__\":\n",
        "  guessing_game(word_hints)"
      ],
      "metadata": {
        "cellView": "form",
        "id": "68fDLUnZs8KF",
        "outputId": "546c3182-e492-4848-d643-ba1150548955",
        "colab": {
          "base_uri": "https://localhost:8080/"
        }
      },
      "execution_count": 1,
      "outputs": [
        {
          "output_type": "stream",
          "name": "stdout",
          "text": [
            "\n",
            "Guess the word based on the following hints:\n",
            "Hint 1: This term is related to the features of speech that go beyond individual sounds.\n",
            "Your guess: \n",
            "Incorrect. Try again with another hint.\n",
            "\n",
            "Hint 2: It is often associated with intonation, stress, and timing.\n",
            "Your guess: \n",
            "Incorrect. Try again with another hint.\n",
            "\n",
            "Hint 3: Examples include pitch, tone, and stress patterns.\n",
            "Your guess: \n",
            "Incorrect. Try again with another hint.\n",
            "\n",
            "Hint 4: The answer begins with 's'.\n",
            "Your guess: \n",
            "Incorrect. Try again with another hint.\n",
            "\n",
            "Sorry, you've run out of hints. The correct word was: suprasegmental\n",
            "\n",
            "\n",
            "Guess the word based on the following hints:\n",
            "Hint 1: This term is related to a specific type of consonant.\n",
            "Your guess: \n",
            "Incorrect. Try again with another hint.\n",
            "\n",
            "Hint 2: It refers to a consonant that is pronounced for a longer duration than its regular counterpart.\n",
            "Your guess: \n",
            "Incorrect. Try again with another hint.\n",
            "\n",
            "Hint 3: In some languages, it can be represented by doubling the consonant in writing.\n",
            "Your guess: geminate\n",
            "Congratulations! You guessed the correct word!\n",
            "\n",
            "\n",
            "Guess the word based on the following hints:\n",
            "Hint 1: This term is related to a unit of speech.\n",
            "Your guess: \n",
            "Incorrect. Try again with another hint.\n",
            "\n",
            "Hint 2: It is a sequence of speech sounds, typically consisting of a vowel and any surrounding consonants.\n",
            "Your guess: \n",
            "Incorrect. Try again with another hint.\n",
            "\n",
            "Hint 3: A word can have one or multiple of these units.\n",
            "Your guess: \n",
            "Incorrect. Try again with another hint.\n",
            "\n",
            "Hint 4: The answer begins with 's'.\n",
            "Your guess: \n",
            "Incorrect. Try again with another hint.\n",
            "\n",
            "Sorry, you've run out of hints. The correct word was: syllable\n",
            "\n"
          ]
        }
      ]
    },
    {
      "cell_type": "markdown",
      "source": [
        "##💦**Demo 2: Convert a statement to a yes-no question**"
      ],
      "metadata": {
        "id": "DKwjeU8pW-iu"
      }
    },
    {
      "cell_type": "code",
      "source": [
        "#@markdown Install and import libraries\n",
        "%%capture\n",
        "!pip install gtts\n",
        "!pip install IPython\n",
        "from gtts import gTTS\n",
        "from IPython.display import Audio, display\n",
        "\n",
        "#@markdown etts(), ktts()\n",
        "def etts(text):\n",
        "  text_to_say = text\n",
        "\n",
        "  gtts_object = gTTS(text = text_to_say,\n",
        "                     lang = \"en\",\n",
        "                    slow = False)\n",
        "  \n",
        "  gtts_object.save(\"E-audio.mp3\")\n",
        "  return Audio(\"E-audio.mp3\")\n",
        "\n",
        "def ktts(text):\n",
        "  text_to_say = text\n",
        "\n",
        "  gtts_object = gTTS(text = text_to_say,\n",
        "                     lang = \"ko\",\n",
        "                    slow = False)\n",
        "  \n",
        "  gtts_object.save(\"K-audio.mp3\")\n",
        "  return Audio(\"K-audio.mp3\")"
      ],
      "metadata": {
        "cellView": "form",
        "id": "TajMEehr8_7D"
      },
      "execution_count": 2,
      "outputs": []
    },
    {
      "cell_type": "markdown",
      "source": [
        "---\n",
        "### Complete version with some restriction \n",
        "\n",
        "1. The statement you're entering must contain a be-verb.\n",
        "2. If you use a proper noun as a subject, restrict it to one of the followings: \n",
        "\n",
        "> **Male: Tom, Thomas, Bill**\n",
        "\n",
        "> **Female: Mary, Jane, Jessica**\n",
        "\n",
        "2. Must contain a punctuation(.)\n",
        "---"
      ],
      "metadata": {
        "id": "5XYJaX2IDrOu"
      }
    },
    {
      "cell_type": "code",
      "source": [
        "#@markdown Statment to a Yes-No question (Audio autoplay)\n",
        "sentence = input(\"Type a sentence containing a be verb: e.g., I am a students.\\n\")\n",
        "beverbs = [\"is\", \"was\", \"are\", \"were\"]\n",
        "pronouns = [\"I\",\"You\",\"He\",\"She\",\"They\",\"It\"]\n",
        "names = [\"Mary\", \"Jane\", \"Tom\",\"Thomas\",\"Jessica\", \"Bill\"]\n",
        "\n",
        "def check_word(list_A, list_B):\n",
        "    for a in list_A:\n",
        "        for b in list_B:\n",
        "            if b in a:\n",
        "                mword = a\n",
        "                return True, mword\n",
        "    return False, None\n",
        "\n",
        "\n",
        "cat1 = sentence.split()\n",
        "\n",
        "result = check_word(cat1,beverbs)\n",
        "\n",
        "if result[0] == True:\n",
        "  if cat1[0] in pronouns:\n",
        "      b = result[1]\n",
        "      be = \" \"+b+\" \"\n",
        "      ss = sentence.split(be)\n",
        "      subj = ss[0]\n",
        "      nsubj = subj[0].lower()+subj[1:]\n",
        "      pred = ss[1]\n",
        "      w1 = b[0].upper() + b[1:] # Capitalized be verb\n",
        "      newsent = w1 + \" \" + nsubj + \" \" + pred[:-1] + \"?\"\n",
        "      mytext = \"I'll make it to a yes-no question: \" + newsent\n",
        "      print(\"Yes-no question: \", newsent)\n",
        "  elif cat1[0] not in pronouns and cat1[0] in names:\n",
        "        b = result[1]\n",
        "        be = \" \"+b+\" \"\n",
        "        ss = sentence.split(be)\n",
        "        subj = ss[0]\n",
        "        pred = ss[1]\n",
        "        w1 = b[0].upper() + b[1:] # Capitalized be verb\n",
        "        newsent = w1 + \" \" + subj + \" \" + pred[:-1] + \"?\"\n",
        "        mytext = \"I'll make it to a yes-no question: \" + newsent\n",
        "        print(\"Yes-no question: \", newsent)\n",
        "  elif cat1[0] not in pronouns and cat1[0] not in names:\n",
        "        b = result[1]\n",
        "        be = \" \"+b+\" \"\n",
        "        ss = sentence.split(be)\n",
        "        subj = ss[0]\n",
        "        nsubj = subj[0].lower()+subj[1:]\n",
        "        pred = ss[1]\n",
        "        w1 = b[0].upper() + b[1:] # Capitalized be verb\n",
        "        newsent = w1 + \" \" + nsubj + \" \" + pred[:-1] + \"?\"\n",
        "        mytext = \"I'll make it to a yes-no question: \" + newsent\n",
        "        print(\"Yes-no question: \", newsent)\n",
        "\n",
        "else:\n",
        "    mytext = \"The sentence you\\' provided does not contain a 'Be' verb. Try again.\"\n",
        "    print(\"Type a sentence that contains a be verb.\")\n",
        "\n",
        "etts(mytext)\n",
        "Audio(\"E-audio.mp3\",autoplay=True)"
      ],
      "metadata": {
        "cellView": "form",
        "id": "ZjPSWFub-55P",
        "outputId": "276d3f9e-5af7-49ec-b936-ecd506182d22",
        "colab": {
          "base_uri": "https://localhost:8080/",
          "height": 129
        }
      },
      "execution_count": 6,
      "outputs": [
        {
          "output_type": "stream",
          "name": "stdout",
          "text": [
            "Type a sentence containing a be verb: e.g., I am a students.\n",
            "A little boy is meeting his friend in the park.\n",
            "Yes-no question:  Is a little boy meeting his friend in the park?\n"
          ]
        },
        {
          "output_type": "execute_result",
          "data": {
            "text/plain": [
              "<IPython.lib.display.Audio object>"
            ],
            "text/html": [
              "\n",
              "                <audio  controls=\"controls\" autoplay=\"autoplay\">\n",
              "                    <source src=\"data:audio/mpeg;base64,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\" type=\"audio/mpeg\" />\n",
              "                    Your browser does not support the audio element.\n",
              "                </audio>\n",
              "              "
            ]
          },
          "metadata": {},
          "execution_count": 6
        }
      ]
    },
    {
      "cell_type": "markdown",
      "source": [
        "## 💦**Demo 3: Story game**"
      ],
      "metadata": {
        "id": "UG0_f0gJQl1r"
      }
    },
    {
      "cell_type": "code",
      "source": [
        "#@markdown Adventure game with reading\n",
        "print(\"Welcome to the adventure game!\")\n",
        "print(\"=\"*50)\n",
        "print(\"You are a high school student who has been chosen to embark on a quest to save your town from a mysterious curse.\")\n",
        "print(\"You will face various challenges and choices along the way, and your decisions will determine the outcome of the story.\")\n",
        "print(\"=\"*50)\n",
        "name = input(\"What is your name? \")\n",
        "print(\"=\"*50)\n",
        "print(f\"Nice to meet you, {name}! Are you ready to begin?\")\n",
        "print(\"=\"*50)\n",
        "# Start of the story\n",
        "print(\"You wake up one morning to find that your town is covered in a thick fog.\")\n",
        "print(\"People are starting to get sick, and strange things are happening.\")\n",
        "print(\"You decide to investigate and find out that a curse has been cast upon the town.\")\n",
        "print(\"You meet a wise old sage who tells you that the only way to lift the curse is to find a magical artifact that is hidden in a dangerous dungeon.\")\n",
        "print(\"=\"*50)\n",
        "# First choice\n",
        "print(\"You have two options:\")\n",
        "print(\"Option 1: Search for clues in the town.\")\n",
        "print(\"Option 2: Go straight to the dungeon.\")\n",
        "print(\"=\"*50)\n",
        "choice = input(\"Which option do you choose? (1 or 2) \")\n",
        "print(\"=\"*50)\n",
        "if choice == \"1\":\n",
        "    print(\"You spend the day talking to townspeople and searching for clues.\")\n",
        "    print(\"You find a cryptic message that leads you to a hidden cave.\")\n",
        "elif choice == \"2\":\n",
        "    print(\"You journey to the dungeon and face many dangers along the way.\")\n",
        "    print(\"You eventually reach the entrance to the dungeon.\")\n",
        "print(\"=\"*50)\n",
        "# Second choice\n",
        "print(\"You have two options:\")\n",
        "print(\"Option 1: Enter the cave.\")\n",
        "print(\"Option 2: Enter the dungeon.\")\n",
        "print(\"=\"*50)\n",
        "choice = input(\"Which option do you choose? (1 or 2) \")\n",
        "print(\"=\"*50)\n",
        "if choice == \"1\":\n",
        "    print(\"=\"*50)\n",
        "    print(\"You enter the cave and find the magical artifact!\")\n",
        "    print(\"You bring it back to the town and the curse is lifted.\")\n",
        "    print(\"Congratulations! You have saved the town!\")\n",
        "    print(\"=\"*50)\n",
        "elif choice == \"2\":\n",
        "    print(\"=\"*50)\n",
        "    print(\"You enter the dungeon and face many challenges.\")\n",
        "    print(\"You eventually find the magical artifact, but it is guarded by a powerful monster.\")\n",
        "    print(\"You must defeat the monster to retrieve the artifact.\")\n",
        "    print(\"You engage in a fierce battle!\")\n",
        "    print(\"You lost the battle and the curse remains.\")\n",
        "    print(\"Brave You! Though the curse remains, people appreicate your effort.\")\n",
        "    print(\"=\"*50)\n"
      ],
      "metadata": {
        "cellView": "form",
        "id": "qBAUNW9qP75J",
        "outputId": "077da247-846b-46f8-9832-b3c7ae8a4ecf",
        "colab": {
          "base_uri": "https://localhost:8080/"
        }
      },
      "execution_count": 7,
      "outputs": [
        {
          "output_type": "stream",
          "name": "stdout",
          "text": [
            "Welcome to the adventure game!\n",
            "==================================================\n",
            "You are a high school student who has been chosen to embark on a quest to save your town from a mysterious curse.\n",
            "You will face various challenges and choices along the way, and your decisions will determine the outcome of the story.\n",
            "==================================================\n",
            "What is your name? Minyoung\n",
            "==================================================\n",
            "Nice to meet you, Minyoung! Are you ready to begin?\n",
            "==================================================\n",
            "You wake up one morning to find that your town is covered in a thick fog.\n",
            "People are starting to get sick, and strange things are happening.\n",
            "You decide to investigate and find out that a curse has been cast upon the town.\n",
            "You meet a wise old sage who tells you that the only way to lift the curse is to find a magical artifact that is hidden in a dangerous dungeon.\n",
            "==================================================\n",
            "You have two options:\n",
            "Option 1: Search for clues in the town.\n",
            "Option 2: Go straight to the dungeon.\n",
            "==================================================\n",
            "Which option do you choose? (1 or 2) 1\n",
            "==================================================\n",
            "You spend the day talking to townspeople and searching for clues.\n",
            "You find a cryptic message that leads you to a hidden cave.\n",
            "==================================================\n",
            "You have two options:\n",
            "Option 1: Enter the cave.\n",
            "Option 2: Enter the dungeon.\n",
            "==================================================\n",
            "Which option do you choose? (1 or 2) 1\n",
            "==================================================\n",
            "==================================================\n",
            "You enter the cave and find the magical artifact!\n",
            "You bring it back to the town and the curse is lifted.\n",
            "Congratulations! You have saved the town!\n",
            "==================================================\n"
          ]
        }
      ]
    },
    {
      "cell_type": "code",
      "source": [
        "#@markdown Story game with listening (audio)\n",
        "from gtts import gTTS\n",
        "import IPython.display as ipd\n",
        "\n",
        "def play_audio(text):\n",
        "    language = 'en'\n",
        "    audio = gTTS(text=text, lang=language, slow=False)\n",
        "    audio.save(\"audio.mp3\")\n",
        "    ipd.display(ipd.Audio(\"audio.mp3\", autoplay=True))\n",
        "\n",
        "# Introduction\n",
        "play_audio(\"Welcome to the story game. You are walking home from school when you hear footsteps behind you. You look back and see a shady figure in the distance. What do you do?\")\n",
        "ipd.clear_output(wait=True)\n",
        "input(\"Press Enter to continue...\")\n",
        "\n",
        "# Stage 1\n",
        "play_audio(\"You decide to run. Do you run towards the park or towards the busy street?\")\n",
        "ipd.clear_output(wait=True)\n",
        "choice = input(\"Enter 1 to run towards the park, or 2 to run towards the busy street: \")\n",
        "if choice == \"1\":\n",
        "    play_audio(\"You run towards the park and manage to lose the shady figure. You continue walking home and make it back safely.\")\n",
        "elif choice == \"2\":\n",
        "    play_audio(\"You run towards the busy street, hoping to find someone to help you. As you get closer, you realize that the figure is a police officer. You stop and explain what happened, and the officer escorts you home safely.\")\n",
        "ipd.clear_output(wait=True)\n",
        "input(\"Press Enter to continue...\")\n",
        "\n",
        "# Stage 2\n",
        "play_audio(\"You arrive home and find that your front door is slightly open. Do you go inside or call the police?\")\n",
        "ipd.clear_output(wait=True)\n",
        "choice = input(\"Enter 1 to go inside, or 2 to call the police: \")\n",
        "if choice == \"1\":\n",
        "    play_audio(\"You cautiously enter your home and find that everything is as you left it. You breathe a sigh of relief and go about your evening.\")\n",
        "elif choice == \"2\":\n",
        "    play_audio(\"You call the police and they arrive shortly after. They search your home and find no one inside. You spend the night at a friend's house and return home the next day.\")\n",
        "ipd.clear_output(wait=True)\n",
        "input(\"Press Enter to continue...\")\n",
        "\n",
        "# Conclusion\n",
        "play_audio(\"Good choice! you have successfully made it home safely. Thanks for playing!\")\n",
        "ipd.clear_output(wait=True)\n"
      ],
      "metadata": {
        "cellView": "form",
        "id": "mx_BDEl-TqLe",
        "outputId": "4dc074a7-9ff1-47da-a3fd-eb4623c6310c",
        "colab": {
          "base_uri": "https://localhost:8080/",
          "height": 93
        }
      },
      "execution_count": 9,
      "outputs": [
        {
          "name": "stdout",
          "output_type": "stream",
          "text": [
            "Press Enter to continue...\n"
          ]
        },
        {
          "output_type": "display_data",
          "data": {
            "text/plain": [
              "<IPython.lib.display.Audio object>"
            ],
            "text/html": [
              "\n",
              "                <audio  controls=\"controls\" autoplay=\"autoplay\">\n",
              "                    <source src=\"data:audio/mpeg;base64,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\" type=\"audio/mpeg\" />\n",
              "                    Your browser does not support the audio element.\n",
              "                </audio>\n",
              "              "
            ]
          },
          "metadata": {}
        }
      ]
    },
    {
      "cell_type": "markdown",
      "source": [
        "---\n",
        "# 📙Concepts and elements to cover for our goal:\n",
        "\n",
        "0. Importing modules: Explain how to import a module (like random) and use its functions (like random.shuffle()).\n",
        "\n",
        "1. Python basics: Basic data types (strings, integers, lists, dictionaries), variables, and basic input/output functions (like print() and input()).\n",
        "\n",
        "2. String manipulation: Cover string methods like .strip() and .lower().\n",
        "3. Control structures: Introduce for loops, while loops, and conditional statements (if, elif, else).\n",
        "\n",
        "4. Functions: Explain how to define and use functions, including function parameters. \n",
        "\n",
        "5. F-strings: Introduce f-strings (formatted string literals) and how to embed expressions inside string literals using curly braces {}.\n",
        "---"
      ],
      "metadata": {
        "id": "2VMRdKbJwOsk"
      }
    },
    {
      "cell_type": "markdown",
      "source": [
        "# [0] Importing modules\n",
        "\n",
        "1. **function, (class), module, package, and library**\n",
        "\n",
        "> (class) > functions\n",
        "\n",
        "\n",
        "2. Let's use the analogy of a toolbox: \n",
        "\n",
        "+ **a module** is a single tool, (e.g., random) \n",
        "+ **a package** is a toolbox containing multiple tools (e.g., gTTS)\n",
        "+ **a library** is a set of toolboxes designed for a specific purpose. (e.g., nltk - Natural Language Tool Kit) _>> Next time_"
      ],
      "metadata": {
        "id": "wgZEzhkQwzc3"
      }
    },
    {
      "cell_type": "markdown",
      "source": [
        "##A. 'gTTS' package"
      ],
      "metadata": {
        "id": "298wKG9q7-rN"
      }
    },
    {
      "cell_type": "code",
      "source": [
        "!pip install gtts\n",
        "!pip install IPython\n",
        "from gtts import gTTS\n",
        "from IPython.display import Audio, display"
      ],
      "metadata": {
        "id": "YLCRqNbW8E9J",
        "outputId": "3620dcd6-e1aa-40a7-c854-28700587cd6f",
        "colab": {
          "base_uri": "https://localhost:8080/"
        }
      },
      "execution_count": 10,
      "outputs": [
        {
          "output_type": "stream",
          "name": "stdout",
          "text": [
            "Looking in indexes: https://pypi.org/simple, https://us-python.pkg.dev/colab-wheels/public/simple/\n",
            "Requirement already satisfied: gtts in /usr/local/lib/python3.9/dist-packages (2.3.1)\n",
            "Requirement already satisfied: click<8.2,>=7.1 in /usr/local/lib/python3.9/dist-packages (from gtts) (8.1.3)\n",
            "Requirement already satisfied: requests<3,>=2.27 in /usr/local/lib/python3.9/dist-packages (from gtts) (2.27.1)\n",
            "Requirement already satisfied: idna<4,>=2.5 in /usr/local/lib/python3.9/dist-packages (from requests<3,>=2.27->gtts) (3.4)\n",
            "Requirement already satisfied: urllib3<1.27,>=1.21.1 in /usr/local/lib/python3.9/dist-packages (from requests<3,>=2.27->gtts) (1.26.15)\n",
            "Requirement already satisfied: charset-normalizer~=2.0.0 in /usr/local/lib/python3.9/dist-packages (from requests<3,>=2.27->gtts) (2.0.12)\n",
            "Requirement already satisfied: certifi>=2017.4.17 in /usr/local/lib/python3.9/dist-packages (from requests<3,>=2.27->gtts) (2022.12.7)\n",
            "Looking in indexes: https://pypi.org/simple, https://us-python.pkg.dev/colab-wheels/public/simple/\n",
            "Requirement already satisfied: IPython in /usr/local/lib/python3.9/dist-packages (7.34.0)\n",
            "Requirement already satisfied: pickleshare in /usr/local/lib/python3.9/dist-packages (from IPython) (0.7.5)\n",
            "Requirement already satisfied: setuptools>=18.5 in /usr/local/lib/python3.9/dist-packages (from IPython) (67.6.1)\n",
            "Requirement already satisfied: matplotlib-inline in /usr/local/lib/python3.9/dist-packages (from IPython) (0.1.6)\n",
            "Requirement already satisfied: decorator in /usr/local/lib/python3.9/dist-packages (from IPython) (4.4.2)\n",
            "Requirement already satisfied: jedi>=0.16 in /usr/local/lib/python3.9/dist-packages (from IPython) (0.18.2)\n",
            "Requirement already satisfied: traitlets>=4.2 in /usr/local/lib/python3.9/dist-packages (from IPython) (5.7.1)\n",
            "Requirement already satisfied: pygments in /usr/local/lib/python3.9/dist-packages (from IPython) (2.14.0)\n",
            "Requirement already satisfied: pexpect>4.3 in /usr/local/lib/python3.9/dist-packages (from IPython) (4.8.0)\n",
            "Requirement already satisfied: prompt-toolkit!=3.0.0,!=3.0.1,<3.1.0,>=2.0.0 in /usr/local/lib/python3.9/dist-packages (from IPython) (3.0.38)\n",
            "Requirement already satisfied: backcall in /usr/local/lib/python3.9/dist-packages (from IPython) (0.2.0)\n",
            "Requirement already satisfied: parso<0.9.0,>=0.8.0 in /usr/local/lib/python3.9/dist-packages (from jedi>=0.16->IPython) (0.8.3)\n",
            "Requirement already satisfied: ptyprocess>=0.5 in /usr/local/lib/python3.9/dist-packages (from pexpect>4.3->IPython) (0.7.0)\n",
            "Requirement already satisfied: wcwidth in /usr/local/lib/python3.9/dist-packages (from prompt-toolkit!=3.0.0,!=3.0.1,<3.1.0,>=2.0.0->IPython) (0.2.6)\n"
          ]
        }
      ]
    },
    {
      "cell_type": "code",
      "source": [
        "#@markdown etts(), ktts()\n",
        "def etts(text):\n",
        "  text_to_say = text\n",
        "\n",
        "  gtts_object = gTTS(text = text_to_say,\n",
        "                     lang = \"en\",\n",
        "                    slow = False)\n",
        "  \n",
        "  gtts_object.save(\"E-audio.mp3\")\n",
        "  return Audio(\"E-audio.mp3\")\n",
        "\n",
        "def ktts(text):\n",
        "  text_to_say = text\n",
        "\n",
        "  gtts_object = gTTS(text = text_to_say,\n",
        "                     lang = \"ko\",\n",
        "                    slow = False)\n",
        "  \n",
        "  gtts_object.save(\"K-audio.mp3\")\n",
        "  return Audio(\"K-audio.mp3\")"
      ],
      "metadata": {
        "id": "bYDfENzGRUFb"
      },
      "execution_count": 11,
      "outputs": []
    },
    {
      "cell_type": "markdown",
      "source": [
        "## B. 'random' module\n",
        "\n",
        "[Random Picker App using 'random'](https://github.com/MK316/Spring2023/blob/main/RandomPickerS23.ipynb)"
      ],
      "metadata": {
        "id": "vSFe_Umb68o9"
      }
    },
    {
      "cell_type": "code",
      "source": [
        "import random"
      ],
      "metadata": {
        "id": "t8tYICF_1Yx8"
      },
      "execution_count": 12,
      "outputs": []
    },
    {
      "cell_type": "markdown",
      "source": [
        "Return a number between 3 and 9 (both included):"
      ],
      "metadata": {
        "id": "RlWQ5dXark-r"
      }
    },
    {
      "cell_type": "code",
      "source": [
        "random.randint(1, 100) #random.randint(x,y)는 함수이므로 문법대로 사용해야 함."
      ],
      "metadata": {
        "colab": {
          "base_uri": "https://localhost:8080/"
        },
        "id": "sMf1Ow7W11EZ",
        "outputId": "971a0476-0f89-4a28-dcbb-08b7b8536f0d"
      },
      "execution_count": 18,
      "outputs": [
        {
          "output_type": "execute_result",
          "data": {
            "text/plain": [
              "72"
            ]
          },
          "metadata": {},
          "execution_count": 18
        }
      ]
    },
    {
      "cell_type": "code",
      "source": [
        "a1 = random.randint(1, 10)\n",
        "a1*10  #변수를 이용하면 결과값을 이용한 다른 연산이나 작업이 가능하다."
      ],
      "metadata": {
        "colab": {
          "base_uri": "https://localhost:8080/"
        },
        "id": "WUVN9-Rs825s",
        "outputId": "41fea6c2-36e4-4148-90a8-d5666e06b5db"
      },
      "execution_count": 16,
      "outputs": [
        {
          "output_type": "execute_result",
          "data": {
            "text/plain": [
              "70"
            ]
          },
          "metadata": {},
          "execution_count": 16
        }
      ]
    },
    {
      "cell_type": "markdown",
      "source": [
        "# [1] Python basics: \n",
        "\n",
        "+ Basic data types (strings, integers, lists, dictionaries), \n",
        "+ variables, \n",
        "+ basic input/output functions (like print() and input()).\n",
        "\n"
      ],
      "metadata": {
        "id": "_vTm-kXl8qa_"
      }
    },
    {
      "cell_type": "markdown",
      "source": [
        "## [1-1] Basic data types"
      ],
      "metadata": {
        "id": "qaQ0_hkoENRX"
      }
    },
    {
      "cell_type": "markdown",
      "source": [
        "### A. strings"
      ],
      "metadata": {
        "id": "HB86s1k990Hh"
      }
    },
    {
      "cell_type": "code",
      "source": [
        "a2 = \"Welcome\"\n",
        "a3 = \"2023\""
      ],
      "metadata": {
        "id": "L_OImwSL94Kr"
      },
      "execution_count": null,
      "outputs": []
    },
    {
      "cell_type": "markdown",
      "source": [
        "☺️ DIY: How to get \"Welcome, 2023!\""
      ],
      "metadata": {
        "id": "wkYUBwu1-IvG"
      }
    },
    {
      "cell_type": "code",
      "source": [],
      "metadata": {
        "id": "XZ2LHJcl9_u4",
        "outputId": "f6b592bd-8a7f-4b62-e14f-f97e80cdece8",
        "colab": {
          "base_uri": "https://localhost:8080/",
          "height": 35
        }
      },
      "execution_count": null,
      "outputs": [
        {
          "output_type": "execute_result",
          "data": {
            "text/plain": [
              "'Welcome, 2023!'"
            ],
            "application/vnd.google.colaboratory.intrinsic+json": {
              "type": "string"
            }
          },
          "metadata": {},
          "execution_count": 20
        }
      ]
    },
    {
      "cell_type": "markdown",
      "source": [
        "☺️ DIY: Let a4 = \"화이팅\", and get '화이팅화이팅화이팅화이팅화이팅화이팅화이팅화이팅화이팅화이팅'(10번)"
      ],
      "metadata": {
        "id": "WNaHBznU-yEd"
      }
    },
    {
      "cell_type": "code",
      "source": [],
      "metadata": {
        "id": "0vfPcih3-xg4",
        "outputId": "be3891a2-8eba-4f0b-a31b-9e0ed445871a",
        "colab": {
          "base_uri": "https://localhost:8080/",
          "height": 35
        }
      },
      "execution_count": null,
      "outputs": [
        {
          "output_type": "execute_result",
          "data": {
            "text/plain": [
              "'화이팅화이팅화이팅화이팅화이팅화이팅화이팅화이팅화이팅화이팅'"
            ],
            "application/vnd.google.colaboratory.intrinsic+json": {
              "type": "string"
            }
          },
          "metadata": {},
          "execution_count": 21
        }
      ]
    },
    {
      "cell_type": "markdown",
      "source": [],
      "metadata": {
        "id": "5WaVFyOfk_zO"
      }
    },
    {
      "cell_type": "code",
      "source": [
        "type(a2). # data type of the variable a2"
      ],
      "metadata": {
        "colab": {
          "base_uri": "https://localhost:8080/"
        },
        "id": "1XroWNyGADZU",
        "outputId": "05a0322b-a18c-401f-8aa2-ec8a7975d907"
      },
      "execution_count": null,
      "outputs": [
        {
          "output_type": "execute_result",
          "data": {
            "text/plain": [
              "str"
            ]
          },
          "metadata": {},
          "execution_count": 22
        }
      ]
    },
    {
      "cell_type": "markdown",
      "source": [
        "###B. Integers, float"
      ],
      "metadata": {
        "id": "kpNXrqZ2_9I2"
      }
    },
    {
      "cell_type": "code",
      "source": [
        "x1 = 45; y1 = 0.5\n",
        "x1 * y1"
      ],
      "metadata": {
        "colab": {
          "base_uri": "https://localhost:8080/"
        },
        "id": "CEs2BHNbAB1Q",
        "outputId": "e63af813-d7ca-422b-91d2-75a50ef4564e"
      },
      "execution_count": null,
      "outputs": [
        {
          "output_type": "execute_result",
          "data": {
            "text/plain": [
              "22.5"
            ]
          },
          "metadata": {},
          "execution_count": 23
        }
      ]
    },
    {
      "cell_type": "code",
      "source": [],
      "metadata": {
        "id": "2WarI3IQsRJX",
        "outputId": "8304e3e2-9753-45f0-adb6-b2da469a304a",
        "colab": {
          "base_uri": "https://localhost:8080/"
        }
      },
      "execution_count": null,
      "outputs": [
        {
          "output_type": "execute_result",
          "data": {
            "text/plain": [
              "float"
            ]
          },
          "metadata": {},
          "execution_count": 24
        }
      ]
    },
    {
      "cell_type": "markdown",
      "source": [
        "### C. List datatype"
      ],
      "metadata": {
        "id": "S7PJcJFkBO46"
      }
    },
    {
      "cell_type": "code",
      "source": [
        "x2 = [1,2,3]\n",
        "x2"
      ],
      "metadata": {
        "colab": {
          "base_uri": "https://localhost:8080/"
        },
        "id": "LjSEH6lABR98",
        "outputId": "eb284b7f-40ef-48c5-ea6f-926543a1ee7b"
      },
      "execution_count": null,
      "outputs": [
        {
          "output_type": "execute_result",
          "data": {
            "text/plain": [
              "[1, 2, 3]"
            ]
          },
          "metadata": {},
          "execution_count": 26
        }
      ]
    },
    {
      "cell_type": "markdown",
      "source": [
        "x2[index]: Python index starts from 0"
      ],
      "metadata": {
        "id": "xcPyj0Fesdiu"
      }
    },
    {
      "cell_type": "code",
      "source": [
        "x2[0]"
      ],
      "metadata": {
        "id": "VGWl1av6BYGu"
      },
      "execution_count": null,
      "outputs": []
    },
    {
      "cell_type": "code",
      "source": [
        "# range(x,y)\n",
        "x3 = range(1,10)\n",
        "list(x3)  #list(), range(1,10)"
      ],
      "metadata": {
        "colab": {
          "base_uri": "https://localhost:8080/"
        },
        "id": "WNmjoCQ1ANr4",
        "outputId": "9e1cf838-bd7f-47f5-def6-731599ef24a5"
      },
      "execution_count": null,
      "outputs": [
        {
          "output_type": "execute_result",
          "data": {
            "text/plain": [
              "[1, 2, 3, 4, 5, 6, 7, 8, 9]"
            ]
          },
          "metadata": {},
          "execution_count": 28
        }
      ]
    },
    {
      "cell_type": "code",
      "source": [
        "x4 = \"John\"\n",
        "list(x4)"
      ],
      "metadata": {
        "colab": {
          "base_uri": "https://localhost:8080/"
        },
        "id": "amRP-ytuBlO6",
        "outputId": "a8eeef49-a6aa-4452-f9e2-d933278c0bdc"
      },
      "execution_count": null,
      "outputs": [
        {
          "output_type": "execute_result",
          "data": {
            "text/plain": [
              "['J', 'o', 'h', 'n']"
            ]
          },
          "metadata": {},
          "execution_count": 29
        }
      ]
    },
    {
      "cell_type": "markdown",
      "source": [
        "###D. Dictionary datatype: {'key':'value'}\n",
        "\n",
        "In Python, a dictionary is a built-in data type that represents a collection of key-value pairs. Each key-value pair in a dictionary is separated by a colon (:), and each pair is separated by a comma. "
      ],
      "metadata": {
        "id": "ZoyOSN_QCCdO"
      }
    },
    {
      "cell_type": "code",
      "source": [
        "mydict = {\"API\":\"Application Programming Interface\", \"GPT\":\"Generative Pretrained Transformer\"}\n",
        "mydict['API']"
      ],
      "metadata": {
        "colab": {
          "base_uri": "https://localhost:8080/",
          "height": 35
        },
        "id": "PdRkfL3JBMWK",
        "outputId": "0e165aee-8079-4359-c38e-64e33c14c9ac"
      },
      "execution_count": null,
      "outputs": [
        {
          "output_type": "execute_result",
          "data": {
            "text/plain": [
              "'Application Programming Interface'"
            ],
            "application/vnd.google.colaboratory.intrinsic+json": {
              "type": "string"
            }
          },
          "metadata": {},
          "execution_count": 30
        }
      ]
    },
    {
      "cell_type": "code",
      "source": [
        "mydict['GPT']"
      ],
      "metadata": {
        "id": "muVfPouBs47b",
        "outputId": "1d08be3c-9e45-4a57-c0e4-1d7ff7368986",
        "colab": {
          "base_uri": "https://localhost:8080/",
          "height": 35
        }
      },
      "execution_count": null,
      "outputs": [
        {
          "output_type": "execute_result",
          "data": {
            "text/plain": [
              "'Generative Pretrained Transformer'"
            ],
            "application/vnd.google.colaboratory.intrinsic+json": {
              "type": "string"
            }
          },
          "metadata": {},
          "execution_count": 31
        }
      ]
    },
    {
      "cell_type": "code",
      "source": [
        "class_size = {\"Class A\": 25, \"Class B\": 30, \"Class C\": 32}\n",
        "class_size['Class C']"
      ],
      "metadata": {
        "colab": {
          "base_uri": "https://localhost:8080/"
        },
        "id": "WBs-NrEJDQRC",
        "outputId": "6c9a6b9f-6471-4424-a133-d47bb0d08f8c"
      },
      "execution_count": null,
      "outputs": [
        {
          "output_type": "execute_result",
          "data": {
            "text/plain": [
              "32"
            ]
          },
          "metadata": {},
          "execution_count": 32
        }
      ]
    },
    {
      "cell_type": "markdown",
      "source": [
        "## [1-2] Variables"
      ],
      "metadata": {
        "id": "0m_ux_SoEUos"
      }
    },
    {
      "cell_type": "markdown",
      "source": [
        "## [1-3] input/output functions"
      ],
      "metadata": {
        "id": "YUasz63dEYAX"
      }
    },
    {
      "cell_type": "code",
      "source": [
        "mynumber = 2\n",
        "mynumber"
      ],
      "metadata": {
        "colab": {
          "base_uri": "https://localhost:8080/"
        },
        "id": "BSp7TWkeEfmz",
        "outputId": "3bcd84d2-c721-4bc7-da68-a245706b8b5c"
      },
      "execution_count": null,
      "outputs": [
        {
          "output_type": "execute_result",
          "data": {
            "text/plain": [
              "2"
            ]
          },
          "metadata": {},
          "execution_count": 87
        }
      ]
    },
    {
      "cell_type": "code",
      "source": [
        "yournumber = input()  # In Python, input() is a built-in function that allows you to get user input from the keyboard. \n",
        "yournumber"
      ],
      "metadata": {
        "colab": {
          "base_uri": "https://localhost:8080/",
          "height": 53
        },
        "id": "6LZudH_0En_w",
        "outputId": "783d5cc3-75a8-465a-963e-b294e0816f0a"
      },
      "execution_count": null,
      "outputs": [
        {
          "name": "stdout",
          "output_type": "stream",
          "text": [
            "4\n"
          ]
        },
        {
          "output_type": "execute_result",
          "data": {
            "text/plain": [
              "'4'"
            ],
            "application/vnd.google.colaboratory.intrinsic+json": {
              "type": "string"
            }
          },
          "metadata": {},
          "execution_count": 33
        }
      ]
    },
    {
      "cell_type": "markdown",
      "source": [
        "☺️ After running the code below, can you tell what the resulting output means?"
      ],
      "metadata": {
        "id": "-Z1mQqzlH4k5"
      }
    },
    {
      "cell_type": "code",
      "source": [
        "yournumber*5"
      ],
      "metadata": {
        "colab": {
          "base_uri": "https://localhost:8080/",
          "height": 35
        },
        "id": "5cGgSs3qHxG_",
        "outputId": "61f4269a-ed03-4cae-f717-7f70b0c34f76"
      },
      "execution_count": null,
      "outputs": [
        {
          "output_type": "execute_result",
          "data": {
            "text/plain": [
              "'44444'"
            ],
            "application/vnd.google.colaboratory.intrinsic+json": {
              "type": "string"
            }
          },
          "metadata": {},
          "execution_count": 34
        }
      ]
    },
    {
      "cell_type": "code",
      "source": [
        "type(yournumber)"
      ],
      "metadata": {
        "colab": {
          "base_uri": "https://localhost:8080/"
        },
        "id": "664rKEalISSY",
        "outputId": "5314bd92-1d93-4d40-d399-b18d7d3b8930"
      },
      "execution_count": null,
      "outputs": [
        {
          "output_type": "execute_result",
          "data": {
            "text/plain": [
              "str"
            ]
          },
          "metadata": {},
          "execution_count": 35
        }
      ]
    },
    {
      "cell_type": "code",
      "source": [
        "yournumber = int(yournumber) # changing the type of the value to integer\n",
        "type(yournumber)"
      ],
      "metadata": {
        "colab": {
          "base_uri": "https://localhost:8080/"
        },
        "id": "u_ocEyoAIVC4",
        "outputId": "cae55304-aabb-4b25-bf49-c0c051815f76"
      },
      "execution_count": null,
      "outputs": [
        {
          "output_type": "execute_result",
          "data": {
            "text/plain": [
              "int"
            ]
          },
          "metadata": {},
          "execution_count": 36
        }
      ]
    },
    {
      "cell_type": "markdown",
      "source": [
        "Getting output:"
      ],
      "metadata": {
        "id": "Z9Kzd8ZW7Bri"
      }
    },
    {
      "cell_type": "code",
      "source": [
        "# print() 함수 배우기\n",
        "print(\"대한민국\")\n",
        "\n",
        "a2 = \"화이팅!\"  # a1: variable(변수)\n",
        "print(a2)\n",
        "print(a2*10)\n",
        "print(\"화이팅 10번 합시다: \", a2*10)\n",
        "a2"
      ],
      "metadata": {
        "id": "aQXDo7u-4-18",
        "outputId": "d02c1b36-7980-4293-8168-c3d350b08205",
        "colab": {
          "base_uri": "https://localhost:8080/",
          "height": 105
        }
      },
      "execution_count": null,
      "outputs": [
        {
          "output_type": "stream",
          "name": "stdout",
          "text": [
            "대한민국\n",
            "화이팅!\n",
            "화이팅!화이팅!화이팅!화이팅!화이팅!화이팅!화이팅!화이팅!화이팅!화이팅!\n",
            "화이팅 10번 합시다:  화이팅!화이팅!화이팅!화이팅!화이팅!화이팅!화이팅!화이팅!화이팅!화이팅!\n"
          ]
        },
        {
          "output_type": "execute_result",
          "data": {
            "text/plain": [
              "'화이팅!'"
            ],
            "application/vnd.google.colaboratory.intrinsic+json": {
              "type": "string"
            }
          },
          "metadata": {},
          "execution_count": 37
        }
      ]
    },
    {
      "cell_type": "code",
      "source": [
        "print(a2)\n",
        "print(\"=\"*30)\n",
        "a1=random.randint(1,10)\n",
        "print(\"Random integer between 1 and 10:\", a1)"
      ],
      "metadata": {
        "colab": {
          "base_uri": "https://localhost:8080/"
        },
        "id": "0jdQu65F2ZWw",
        "outputId": "3a5d1c38-1e5a-4df4-8b8a-e7d3b08ce48b"
      },
      "execution_count": null,
      "outputs": [
        {
          "output_type": "stream",
          "name": "stdout",
          "text": [
            "화이팅!\n",
            "==============================\n",
            "Random integer between 1 and 10: 7\n"
          ]
        }
      ]
    },
    {
      "cell_type": "markdown",
      "source": [
        "☺️DIY: \n",
        "**Q: John and Mary have been together for many days. Ask Mary how many days it has been since she met John. Then you tell Mary how many hours it has been since she met John.**\n",
        "\n",
        "1. Set the variable 'day' to 24\n",
        "2. Set the variable 'num_day' for the input from the user. Get a number (number of days) from the user using input() function\n",
        "2. Calculate days to hours: set the variable 'hours' to the final result."
      ],
      "metadata": {
        "id": "cvkWAvetFtSP"
      }
    },
    {
      "cell_type": "code",
      "source": [
        "day = \n",
        "num_day = \n",
        "hours = \n",
        "print(\"The total hours passed since Mary met John are: \", hours, \"hours.\")"
      ],
      "metadata": {
        "id": "Fdezo9WD1zju",
        "outputId": "174b66de-637f-420b-f218-3dbcf86e8f5b",
        "colab": {
          "base_uri": "https://localhost:8080/"
        }
      },
      "execution_count": null,
      "outputs": [
        {
          "output_type": "stream",
          "name": "stdout",
          "text": [
            "How many days? 23\n",
            "The total hours passed since Mary met John are:  552 hours.\n"
          ]
        }
      ]
    },
    {
      "cell_type": "markdown",
      "source": [
        "#[2] String manipulation: strip() and .lower().\n",
        "\n"
      ],
      "metadata": {
        "id": "zzkVAfU61HDk"
      }
    },
    {
      "cell_type": "markdown",
      "source": [
        "### **data.strip()**\n",
        "\n",
        "+ In Python, strip() is a built-in string method that returns a copy of the string with leading and trailing characters removed. \n",
        "+ By default, strip() removes whitespace characters such as spaces, tabs, and newlines from the beginning and end of the string."
      ],
      "metadata": {
        "id": "sSi_PvE5LTeC"
      }
    },
    {
      "cell_type": "code",
      "source": [
        "w1 = \" Mary is friendly. \"\n",
        "w1"
      ],
      "metadata": {
        "colab": {
          "base_uri": "https://localhost:8080/",
          "height": 35
        },
        "id": "IUtU-qG81XIt",
        "outputId": "e220311b-615a-4482-fcf3-989e2bcf0a26"
      },
      "execution_count": null,
      "outputs": [
        {
          "output_type": "execute_result",
          "data": {
            "text/plain": [
              "' Mary is friendly. '"
            ],
            "application/vnd.google.colaboratory.intrinsic+json": {
              "type": "string"
            }
          },
          "metadata": {},
          "execution_count": 46
        }
      ]
    },
    {
      "cell_type": "code",
      "source": [
        "w1.strip()"
      ],
      "metadata": {
        "colab": {
          "base_uri": "https://localhost:8080/",
          "height": 35
        },
        "id": "ZAhdPbqVKr6e",
        "outputId": "cd233fa9-fd66-4f89-da29-02e5f8e8ddf7"
      },
      "execution_count": null,
      "outputs": [
        {
          "output_type": "execute_result",
          "data": {
            "text/plain": [
              "'Mary is friendly.'"
            ],
            "application/vnd.google.colaboratory.intrinsic+json": {
              "type": "string"
            }
          },
          "metadata": {},
          "execution_count": 47
        }
      ]
    },
    {
      "cell_type": "markdown",
      "source": [
        "### **data.split()**"
      ],
      "metadata": {
        "id": "JGPdtmu8MFgv"
      }
    },
    {
      "cell_type": "code",
      "source": [
        "w1 = \"Mary is friendly.\"\n",
        "w1.split()"
      ],
      "metadata": {
        "colab": {
          "base_uri": "https://localhost:8080/"
        },
        "id": "xbF1sJB9MIpw",
        "outputId": "b9175d5c-0146-44ee-a8dc-9e11d71cdbd9"
      },
      "execution_count": null,
      "outputs": [
        {
          "output_type": "execute_result",
          "data": {
            "text/plain": [
              "['Mary', 'is', 'friendly.']"
            ]
          },
          "metadata": {},
          "execution_count": 48
        }
      ]
    },
    {
      "cell_type": "code",
      "source": [
        "w2 = \"out-of-date\"\n",
        "w2.split('-')"
      ],
      "metadata": {
        "colab": {
          "base_uri": "https://localhost:8080/"
        },
        "id": "IudKgTjkMVQP",
        "outputId": "fffcbccf-0217-466c-bcc2-d35131bd60c7"
      },
      "execution_count": null,
      "outputs": [
        {
          "output_type": "execute_result",
          "data": {
            "text/plain": [
              "['out', 'of', 'date']"
            ]
          },
          "metadata": {},
          "execution_count": 49
        }
      ]
    },
    {
      "cell_type": "code",
      "source": [
        "w1 = \"Mary\"\n",
        "w2 = \"is\"\n",
        "w3 = \"friendly\""
      ],
      "metadata": {
        "id": "tGBOKKKtLvj7"
      },
      "execution_count": null,
      "outputs": []
    },
    {
      "cell_type": "code",
      "source": [
        "wordlist = [w1, w2, w3]\n",
        "wordlist"
      ],
      "metadata": {
        "colab": {
          "base_uri": "https://localhost:8080/"
        },
        "id": "c11AXGr0V_a4",
        "outputId": "f5a0b40c-c834-4888-c9fa-b243ac79243e"
      },
      "execution_count": null,
      "outputs": [
        {
          "output_type": "execute_result",
          "data": {
            "text/plain": [
              "['Mary', 'is', 'friendly']"
            ]
          },
          "metadata": {},
          "execution_count": 51
        }
      ]
    },
    {
      "cell_type": "markdown",
      "source": [
        "### **' '.join()**"
      ],
      "metadata": {
        "id": "Mb-LFWWPWn08"
      }
    },
    {
      "cell_type": "code",
      "source": [
        "' '.join(wordlist)"
      ],
      "metadata": {
        "colab": {
          "base_uri": "https://localhost:8080/",
          "height": 35
        },
        "id": "tZA7DsPPWGmA",
        "outputId": "90221f13-9bd2-40de-da6a-de32c074fb58"
      },
      "execution_count": null,
      "outputs": [
        {
          "output_type": "execute_result",
          "data": {
            "text/plain": [
              "'Mary is friendly'"
            ],
            "application/vnd.google.colaboratory.intrinsic+json": {
              "type": "string"
            }
          },
          "metadata": {},
          "execution_count": 52
        }
      ]
    },
    {
      "cell_type": "code",
      "source": [
        "'-'.join(wordlist)"
      ],
      "metadata": {
        "colab": {
          "base_uri": "https://localhost:8080/",
          "height": 35
        },
        "id": "EjLtWSL5WdYy",
        "outputId": "4ce99690-92b2-4ac7-b8c2-ee45569c21fe"
      },
      "execution_count": null,
      "outputs": [
        {
          "output_type": "execute_result",
          "data": {
            "text/plain": [
              "'Mary-is-friendly'"
            ],
            "application/vnd.google.colaboratory.intrinsic+json": {
              "type": "string"
            }
          },
          "metadata": {},
          "execution_count": 53
        }
      ]
    },
    {
      "cell_type": "markdown",
      "source": [
        "### **data.lower(), data.upper()**"
      ],
      "metadata": {
        "id": "PgCIMbbcL29X"
      }
    },
    {
      "cell_type": "code",
      "source": [
        "w1.lower()"
      ],
      "metadata": {
        "colab": {
          "base_uri": "https://localhost:8080/",
          "height": 35
        },
        "id": "JGqTVM22MuH0",
        "outputId": "118e59a5-ab1a-4271-98b6-5e38fd509488"
      },
      "execution_count": null,
      "outputs": [
        {
          "output_type": "execute_result",
          "data": {
            "text/plain": [
              "'mary'"
            ],
            "application/vnd.google.colaboratory.intrinsic+json": {
              "type": "string"
            }
          },
          "metadata": {},
          "execution_count": 54
        }
      ]
    },
    {
      "cell_type": "code",
      "source": [
        "w1.upper()"
      ],
      "metadata": {
        "colab": {
          "base_uri": "https://localhost:8080/",
          "height": 35
        },
        "id": "fP2lBss3Myhq",
        "outputId": "7b93479c-d868-4f9d-d120-456ed03398a4"
      },
      "execution_count": null,
      "outputs": [
        {
          "output_type": "execute_result",
          "data": {
            "text/plain": [
              "'MARY'"
            ],
            "application/vnd.google.colaboratory.intrinsic+json": {
              "type": "string"
            }
          },
          "metadata": {},
          "execution_count": 55
        }
      ]
    },
    {
      "cell_type": "markdown",
      "source": [
        "string index"
      ],
      "metadata": {
        "id": "yZJk2NtCM_oz"
      }
    },
    {
      "cell_type": "code",
      "source": [
        "len(w1) #number of string"
      ],
      "metadata": {
        "colab": {
          "base_uri": "https://localhost:8080/"
        },
        "id": "HmuiXLZSNGNa",
        "outputId": "a04863f4-d425-4cca-ae44-b0b8506c2910"
      },
      "execution_count": null,
      "outputs": [
        {
          "output_type": "execute_result",
          "data": {
            "text/plain": [
              "4"
            ]
          },
          "metadata": {},
          "execution_count": 56
        }
      ]
    },
    {
      "cell_type": "code",
      "source": [
        "w1[0] #1st string"
      ],
      "metadata": {
        "colab": {
          "base_uri": "https://localhost:8080/",
          "height": 35
        },
        "id": "xiyozLYxM6xk",
        "outputId": "b87c69f9-889e-4473-b142-33ef06d35790"
      },
      "execution_count": null,
      "outputs": [
        {
          "output_type": "execute_result",
          "data": {
            "text/plain": [
              "'M'"
            ],
            "application/vnd.google.colaboratory.intrinsic+json": {
              "type": "string"
            }
          },
          "metadata": {},
          "execution_count": 57
        }
      ]
    },
    {
      "cell_type": "code",
      "source": [
        "w1[-1]"
      ],
      "metadata": {
        "colab": {
          "base_uri": "https://localhost:8080/",
          "height": 35
        },
        "id": "AY_Ii7FhNeof",
        "outputId": "4cda0399-33ee-42f3-bf12-9f6aa11cd329"
      },
      "execution_count": null,
      "outputs": [
        {
          "output_type": "execute_result",
          "data": {
            "text/plain": [
              "'y'"
            ],
            "application/vnd.google.colaboratory.intrinsic+json": {
              "type": "string"
            }
          },
          "metadata": {},
          "execution_count": 58
        }
      ]
    },
    {
      "cell_type": "code",
      "source": [
        "w1[0:]"
      ],
      "metadata": {
        "id": "vhfF3iXwNijx"
      },
      "execution_count": null,
      "outputs": []
    },
    {
      "cell_type": "code",
      "source": [
        "w1[:]"
      ],
      "metadata": {
        "id": "pW4m0FoyNlf4"
      },
      "execution_count": null,
      "outputs": []
    },
    {
      "cell_type": "code",
      "source": [
        "w1[1:3]"
      ],
      "metadata": {
        "id": "tgp9ozDdNpwd"
      },
      "execution_count": null,
      "outputs": []
    },
    {
      "cell_type": "code",
      "source": [
        "w = \"mary\"\n",
        "w[0:-1]"
      ],
      "metadata": {
        "id": "0Su3TuHfPxwh"
      },
      "execution_count": null,
      "outputs": []
    },
    {
      "cell_type": "markdown",
      "source": [
        "☺️ DIY: Convert a statement to a yes-no question (e.g., Mary is smart. Tom is smiling. Jane is late.)"
      ],
      "metadata": {
        "id": "lGVkVdCLNMz0"
      }
    },
    {
      "cell_type": "code",
      "source": [
        "w1 = \"Mary\"; w2 = \"is\"; w3 = \"friendly.\""
      ],
      "metadata": {
        "id": "nz1VNUviNXaJ"
      },
      "execution_count": null,
      "outputs": []
    }
  ]
}