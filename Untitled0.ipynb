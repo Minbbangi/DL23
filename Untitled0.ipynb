{
  "nbformat": 4,
  "nbformat_minor": 0,
  "metadata": {
    "colab": {
      "provenance": [],
      "authorship_tag": "ABX9TyPSsVXREPERn1X7kD+ZKbCC",
      "include_colab_link": true
    },
    "kernelspec": {
      "name": "python3",
      "display_name": "Python 3"
    },
    "language_info": {
      "name": "python"
    }
  },
  "cells": [
    {
      "cell_type": "markdown",
      "metadata": {
        "id": "view-in-github",
        "colab_type": "text"
      },
      "source": [
        "<a href=\"https://colab.research.google.com/github/Minbbangi/DL23/blob/main/Untitled0.ipynb\" target=\"_parent\"><img src=\"https://colab.research.google.com/assets/colab-badge.svg\" alt=\"Open In Colab\"/></a>"
      ]
    },
    {
      "cell_type": "code",
      "execution_count": 1,
      "metadata": {
        "colab": {
          "base_uri": "https://localhost:8080/"
        },
        "id": "4-8eseCqd4Wy",
        "outputId": "79b98334-6f47-4d02-b145-bc9723dd5251"
      },
      "outputs": [
        {
          "output_type": "stream",
          "name": "stdout",
          "text": [
            "Looking in indexes: https://pypi.org/simple, https://us-python.pkg.dev/colab-wheels/public/simple/\n",
            "Collecting gTTS\n",
            "  Downloading gTTS-2.3.2-py3-none-any.whl (28 kB)\n",
            "Requirement already satisfied: requests<3,>=2.27 in /usr/local/lib/python3.10/dist-packages (from gTTS) (2.27.1)\n",
            "Requirement already satisfied: click<8.2,>=7.1 in /usr/local/lib/python3.10/dist-packages (from gTTS) (8.1.3)\n",
            "Requirement already satisfied: urllib3<1.27,>=1.21.1 in /usr/local/lib/python3.10/dist-packages (from requests<3,>=2.27->gTTS) (1.26.15)\n",
            "Requirement already satisfied: certifi>=2017.4.17 in /usr/local/lib/python3.10/dist-packages (from requests<3,>=2.27->gTTS) (2022.12.7)\n",
            "Requirement already satisfied: charset-normalizer~=2.0.0 in /usr/local/lib/python3.10/dist-packages (from requests<3,>=2.27->gTTS) (2.0.12)\n",
            "Requirement already satisfied: idna<4,>=2.5 in /usr/local/lib/python3.10/dist-packages (from requests<3,>=2.27->gTTS) (3.4)\n",
            "Installing collected packages: gTTS\n",
            "Successfully installed gTTS-2.3.2\n"
          ]
        }
      ],
      "source": [
        "# Making functions (sample) tts(text)\n",
        "!pip install gTTS\n",
        "from gtts import gTTS\n",
        "from IPython.display import Audio\n",
        "\n",
        "def tts(text):\n",
        "  gtts_object = gTTS(text,lang = \"en\", slow = True) \n",
        "  gtts_object.save(\"myaudio.mp3\")\n",
        "  return Audio(\"myaudio.mp3\")"
      ]
    },
    {
      "cell_type": "code",
      "source": [
        "tts('Hello')"
      ],
      "metadata": {
        "colab": {
          "base_uri": "https://localhost:8080/",
          "height": 74
        },
        "id": "LbKNeudReZwb",
        "outputId": "049cad4c-c2fd-448c-8bc3-6e4995b7394d"
      },
      "execution_count": 3,
      "outputs": [
        {
          "output_type": "execute_result",
          "data": {
            "text/plain": [
              "<IPython.lib.display.Audio object>"
            ],
            "text/html": [
              "\n",
              "                <audio  controls=\"controls\" >\n",
              "                    <source src=\"data:audio/mpeg;base64,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\" type=\"audio/mpeg\" />\n",
              "                    Your browser does not support the audio element.\n",
              "                </audio>\n",
              "              "
            ]
          },
          "metadata": {},
          "execution_count": 3
        }
      ]
    },
    {
      "cell_type": "code",
      "source": [
        "# Making functions: etts('text'), ktts('text'), ftts('text')\n",
        "!pip install gTTS      # Installation\n",
        "from gtts import gTTS  # Import\n",
        "from IPython.display import Audio\n",
        "\n",
        "#######################\n",
        "def etts(text):\n",
        "  text_to_say = text\n",
        "\n",
        "  gtts_object = gTTS(text = text_to_say,\n",
        "                     lang = \"en\", tld = \"us\",\n",
        "                    slow = True)\n",
        "  \n",
        "  gtts_object.save(\"E-audio.mp3\")\n",
        "  return Audio(\"E-audio.mp3\")\n",
        "#######################\n",
        "\n",
        "def ktts(text):\n",
        "  text_to_say = text\n",
        "\n",
        "  gtts_object = gTTS(text = text_to_say,\n",
        "                     lang = \"ko\",\n",
        "                    slow = False)\n",
        "  \n",
        "  gtts_object.save(\"K-audio.mp3\")\n",
        "  return Audio(\"K-audio.mp3\")\n",
        "\n",
        "#######################\n",
        "\n",
        "def ftts(text):\n",
        "  text_to_say = text\n",
        "\n",
        "  gtts_object = gTTS(text = text_to_say,\n",
        "                     lang = \"fr\",\n",
        "                    slow = False)\n",
        "  \n",
        "  gtts_object.save(\"F-audio.mp3\")\n",
        "  return Audio(\"F-audio.mp3\")"
      ],
      "metadata": {
        "colab": {
          "base_uri": "https://localhost:8080/"
        },
        "id": "16c9d0n_ilLg",
        "outputId": "5899c35d-440d-472b-8bd0-1017daf27053"
      },
      "execution_count": 4,
      "outputs": [
        {
          "output_type": "stream",
          "name": "stdout",
          "text": [
            "Looking in indexes: https://pypi.org/simple, https://us-python.pkg.dev/colab-wheels/public/simple/\n",
            "Requirement already satisfied: gTTS in /usr/local/lib/python3.10/dist-packages (2.3.2)\n",
            "Requirement already satisfied: requests<3,>=2.27 in /usr/local/lib/python3.10/dist-packages (from gTTS) (2.27.1)\n",
            "Requirement already satisfied: click<8.2,>=7.1 in /usr/local/lib/python3.10/dist-packages (from gTTS) (8.1.3)\n",
            "Requirement already satisfied: urllib3<1.27,>=1.21.1 in /usr/local/lib/python3.10/dist-packages (from requests<3,>=2.27->gTTS) (1.26.15)\n",
            "Requirement already satisfied: certifi>=2017.4.17 in /usr/local/lib/python3.10/dist-packages (from requests<3,>=2.27->gTTS) (2022.12.7)\n",
            "Requirement already satisfied: charset-normalizer~=2.0.0 in /usr/local/lib/python3.10/dist-packages (from requests<3,>=2.27->gTTS) (2.0.12)\n",
            "Requirement already satisfied: idna<4,>=2.5 in /usr/local/lib/python3.10/dist-packages (from requests<3,>=2.27->gTTS) (3.4)\n"
          ]
        }
      ]
    },
    {
      "cell_type": "code",
      "source": [
        "etts(\"Hello\")"
      ],
      "metadata": {
        "colab": {
          "base_uri": "https://localhost:8080/",
          "height": 74
        },
        "id": "VO1YBo3EivMH",
        "outputId": "cd545353-198a-4e5d-f84a-72d804b70219"
      },
      "execution_count": 5,
      "outputs": [
        {
          "output_type": "execute_result",
          "data": {
            "text/plain": [
              "<IPython.lib.display.Audio object>"
            ],
            "text/html": [
              "\n",
              "                <audio  controls=\"controls\" >\n",
              "                    <source src=\"data:audio/mpeg;base64,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\" type=\"audio/mpeg\" />\n",
              "                    Your browser does not support the audio element.\n",
              "                </audio>\n",
              "              "
            ]
          },
          "metadata": {},
          "execution_count": 5
        }
      ]
    },
    {
      "cell_type": "code",
      "source": [
        "ktts(\"안녕\")"
      ],
      "metadata": {
        "colab": {
          "base_uri": "https://localhost:8080/",
          "height": 74
        },
        "id": "uVRr8fulizQu",
        "outputId": "ba6da771-4461-4c49-f270-8ba54f7afe62"
      },
      "execution_count": 6,
      "outputs": [
        {
          "output_type": "execute_result",
          "data": {
            "text/plain": [
              "<IPython.lib.display.Audio object>"
            ],
            "text/html": [
              "\n",
              "                <audio  controls=\"controls\" >\n",
              "                    <source src=\"data:audio/mpeg;base64,//NExAAPMJYkAUYQALu7vtEEyZMmTJkyZMAAAAAAgQIRD/IQgsHwfB8P///u/////+CAIAgCBnLg+CAIAgCAJg+D4Pg+CAIAgGH/WPD5YagL/5fNr/S//5+MMyscliRH//NExBYWmdKUAZhoAJgrgK6Cd+CtiVuiBQwGoPo5fvqm5u7t/TqNGPTYvkwu/0FM+ggfTTZJD/oIOt/Rc3MFwa/9ZoEl5cQf95e45gY4sSgRKhO20NcziYhqkKclUXY7//NExA4WKXrAAY94AE9z+PdPmIbguajSq6BaiZE9E/F2KE/DnUExPR6DnqGaIsOhU03u2nG3tV3NBhV1Xe7f1tClxBkgvYU3//zv4z64xq2YMKsX+rlgDTgKwsKoaAUJ//NExAgSySLUAYx4AIkJ7qhWYiGJYrMxSd6XNBQItVkgRFFMeEdKIyMeTIl0cXLL/FtXiap77jYtvNoltb1ncSm8WtSTDggXGQQUHwIKE/QqjzFGT0qT2jLMWVVp5Wp1//NExA8SIR7UAY9gAA0/D9RRynSiSsMhKO1kaoCxfZTE4cnVxTKrruNWN6weyUtl36urcy9pZ2tLXci841ImGiFIcEaDfppsxE8cI6qlTxI+LYwbAnVDLqrvj0zOWl2u//NExBkRQT68AZh4AJk3NAi17Ir1YfcamIetagjodPXN5m09/NXP8J6zw7PNXl1X/Nf/jPvSs1oCZCYDLBrZ1mMhqYghZhsDmDDiYDHxhUAGIiyW1MCCNSUFOW/qDLQk//NExCcb8RZwAdxgAP6B4ukfOr7llhRh4B5ZWMwR+8YkmN0lNFSAyddcr0e24v8U1BiYaoJx0eOsNeDqjwMgqLgJqqQEokHG3/axTGeHjjli41JzaFJliYZ9ZsHCZmAo//NExAoRcLp8AN5STFEmYARmxAyOJk6MkQEoX1aP03M3Sbe20Y8CpOsFVQMk6rvLFYfcV2TFKOIvi4aGET4fPf+mqu73f+T/qpEyE/AWWoOyBEjF9DUiNsBYlX6wNnV2//NExBcRMLZ8AN5eTCMvZlJay0pBsmkFORCZQmpLV1rM2d0q8pCpuIBwdHINHGYuGSH3atttdK//2maUuweGTwIIXAIM1lGplCiAo0MJHUUZ/bN5Uu6fmGgcFeJmToQT//NExCUQyL6AAN4YTPWqOmbX5n8razjUFQG36lgF3qu/St1vb2/CEx8Wx1WEu2L6aMZXB2+nMc3RzZ+PMiqwVJNwq29dJcjdwBReGnCAaQR2p4kyjoaHcpW0EHBF75ce//NExDQRCLaMANYKTA+UGHJSfRu//4sf8vZ3/8oq+kPJmaLTKdxdYAiPEy+7zzE5iDRBpdgYYrY24av5vj/LcZVhkR9IRseM8e99t8YHTOQzP87IYmQ2GPsOOb///pf+//NExEIRWV6oAMIMlL//dVXU2BJ21E1yehwYtUBhsIAnNk/gL9Zmmev7X9Z82888UJG1D5AAA1ycnqgPBiMS5PeDo2IJEL8a9PWAgTNBJiBz1eUBLSs6JRiWITqSSA0M//NExE8QQVq0AMJMlZklHswLBRqaek72W9wb1k8PWXLLG8Uh4VTx9PRxZbnvBR+ByjhqQf4OT5BetWdjTfrPXs9hPmHsk62lqrwAZb1TB5oZ7pTlyuJ0jGA537m5t6mg//NExGESSWK0AMPSlDI5v2KhmoYPWwnbJ4+SuddHF1s95q1I726kOUVNnWLO6k7M0tvzs5Xm6txQ0B7VVwC1jFEJoqwKQAwE0C36JjLE4hIoOGl2nGEOLnBIRjBGAHAh//NExGoRSUbAAU9gAYogjYTYIIMQLgR9CQAYC4Jg5iDg5W94zRICnjMkSE8ixKX2+WkMiODHZ4nEU5sjj3yicIkWM8Y00xz7jLykR63LqnyzwYsch7+f///1qrIoHq6Q//NExHccSXawAZh4ALEquCexTQPI7wfyuF2hGcheDgczZUUEgimBsCYg6QviRobJpJJspdbWq3dJSmo0WW10UFzM1TZ0qnc2WkfTMnhS6omyszioR2LQYMJhShH707V///NExFgRsVa4Ac9oAT+Jy2E3nnZQ69xxGvsPJgMIQjHeAuMUC6Frj3RV7eWRe3iueLmu7utTKaY6vz2ayivmsqdOtNsqzQVMBxwBpyxIOQeMaqLaGmHGOQGEBBg40Ygq//NExGQSAV6sAVhYARcQj0uiYOvkSCM680zA6Y4JBKFTUGnJDFum+ls0ha/8xcU5kXLdPZzjM1K6k1M27eeu7qyqfpp6Dr9JT0tR/LFJhb3GorZhqVRaQ0tyVzEihzGz//NExG8hkaKUAZrIAElWU/9Nhey7////fsHtf/Z6V/Q/+t36ak/gS0GzEIiJDjVUwgFHopN0wkyVtMHTzJAkwEzBxC2ExYNBwQYwLjwOMDA0fAg6M/EjAw5XSdCDyFBq//NExDsgaYp8Adt4AEnhomJBVt4O22O22gvPE03dejNj6rM8ZWSHFc21yllkZ5XNhkVry2asWm67c7ipVhRrCrYqliwt+e8a74Qm0t///Raok1lNcEKwAaFQfPikSRBg//NExAwUKNqEANPGcEJAJkC7JRECBoOQsYuIxGc+AMIN0B8hknaJKhFmA0WBtiu/MKZMDGxLHhY6MYZ0B1JITGwKVcaaoDHgkeCqUkaHf///Qm4ilApNGP4gJyZgMTKE//NExA4SmR58ANPGcdoiNgI4oyGHw31pAH4S8QNMBX4MZsirs/7KVbaYmNU0eEShzmxE55ITCI4cEELLzc4NL2exWlfnb3gE/7VrQ5wGnwE8hlcLm08QqcmyIuzULila//NExBYRiPKAANPGcDNYhfmahz4Z5gwGkvB2ZP2KpJXu95FCGZ6dQHwgRCWeLBYNigUICpNvJPEo/uJjySpWAA5i4hrGQuXMIXRiKo8uwDgqozECT4WkafxZlhyZRIVC//NExCIR+RJ8ANPGcFmcp1RV1VahsWdPYrUEZMDJZSHw2mzx1dYWsDA0d49AqEUtkVNVLhmPjhjwOa/RAaOLAUHEywq6W5LJf0qllp1Shh0hFxxMmOR9UJjG7v2O8epl//NExC0RUOJsANsGcOZKjrQphaKBwOBQegyA4oefY/lSL7EvWhUKJnZyeUoGpW0g8BQg4JsLEp+JE74VJKOydq5OcASHsKWQmH45p9ccjeEkv5isrfOHJPTHbLPP7z3+//NExDoRySZUAMsMcJoKSAroTqeInjH1nsqqO0GyDlDUniQZHJ5zjvVapKShwBEoJVzj0XOSlqOcrejAQ5cWGTGAiTCoKndLTzZZR75WSIhORrPd6n7itQUeVYosSCtZ//NExEUSmNn4AHmGcBaz86/yVQho0i3nAl3CG1LkZKIzB9lEQlixGw8Syy1DL9rYZGrKCBOGQEEhcjiosg0PFPXjBdiQELCpn8VFkGh4p/9QsKmam8VFlQ4wDsY87yYO//NExE0REL18AHpGTAYGm7nEJxCV9BCIE4fg+GCgIQTesP1HJS5KnS75Q5UGKwfUoEC44ECg0PlHBgu8go5hnJ//lLy85h/NKgcYsi+snSy2vgLaiZrtNXbauiItVCPO//NExFsQyGnsAHjGKJiAKqUHKtCwne6FqyDXWUxU1ZQ2ln2xt7l/8hWatcab/Q1S960VAEyZqYUuYdD8OzLurmVQylqRNG0motSNbHEywUfGjBSJBokeInWJaJSRKHYd//NExGoPGI38AHpGTIanfZbnXnnMdV2dynKfdpV9+r6PSnggxtEIQXCwYB8ThYMCcuoaHwQKBEPiAoNCwYB8TgQMA+IwIsccBAufDHy44MA+Xe6cBAuODBTz4Y8o4/5R//NExIAQaK3sAMJGTMT9fyYnHHOXUGI1SOCFmQKxNhCpFLE91WZwXA8PxJ7Y30zWD6CLFKILSji6K23ygYVNm1hyS8KoLyHEl0yYgI7YKLsm/cUyhYPB7BHKhzxa0LZk//NExJER8CncABhGAA+ow6PiELVpU3zC06yZWVeTPz3sdNmZB4crC6w6U88OmY91F9NlWzZsNd3GVfq97Z5q3XZgSnStDJ4ygNVzl8/FYaoKiqXBRFXLB1qVW3BgSeiW//NExJwgst3oAMJMuTha4CpMbhMB4I0mMaJOeeY2gTll16j9+afce1x6Tq9YG4lpy9AqawUQMQJQCZ0FfBSwMbBRJoKZQJwEQSt+FLLZnKCvgEDIMOWJaWKGY7hVXDOW//NExGwgUl3oAMMGuV+GFIvYy6yDHdhEioFw6mXBbQyatioIaQAuZ4JZUq5hkpvXlcNjFZNRtxMQjRwnMolUhYkCDOjjMsrk1I1a0msMmC0MgIW/0BUWNPZ/gUUNBUiA//NExD0SoQG8AHpGcIVImQkLmW///1t+wyEqTEFNRTMuMTAwqqqqqqqqqqqqqqqqqqqqqqqqqqqqqqqqqqqqqqqqqqqqqqqqqqqqqqqqqqqqqqqqqqqqqqqqqqqqqqqq\" type=\"audio/mpeg\" />\n",
              "                    Your browser does not support the audio element.\n",
              "                </audio>\n",
              "              "
            ]
          },
          "metadata": {},
          "execution_count": 6
        }
      ]
    },
    {
      "cell_type": "code",
      "source": [
        "ftts(\"Bon Jour!\")"
      ],
      "metadata": {
        "colab": {
          "base_uri": "https://localhost:8080/",
          "height": 74
        },
        "id": "lXE1Ut8ai8qU",
        "outputId": "9b485f1d-6c63-4685-ebeb-c406e3950b83"
      },
      "execution_count": 7,
      "outputs": [
        {
          "output_type": "execute_result",
          "data": {
            "text/plain": [
              "<IPython.lib.display.Audio object>"
            ],
            "text/html": [
              "\n",
              "                <audio  controls=\"controls\" >\n",
              "                    <source src=\"data:audio/mpeg;base64,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\" type=\"audio/mpeg\" />\n",
              "                    Your browser does not support the audio element.\n",
              "                </audio>\n",
              "              "
            ]
          },
          "metadata": {},
          "execution_count": 7
        }
      ]
    },
    {
      "cell_type": "code",
      "source": [
        "Language = \"kr\" #@param = [\"en\", \"kr\"]\n",
        "\n",
        "mytext = input(\"Type text: \")\n",
        "if Language == \"en\":\n",
        "  etts(mytext)\n",
        "  myaudio = \"E-audio.mp3\"\n",
        "elif Language == \"kr\":\n",
        "  ktts(mytext)\n",
        "  myaudio = \"K-audio.mp3\"\n",
        "\n",
        "Audio(myaudio)"
      ],
      "metadata": {
        "colab": {
          "base_uri": "https://localhost:8080/",
          "height": 92
        },
        "id": "3IBKeCJjjOFo",
        "outputId": "5c5709f9-2af8-4930-8d35-8ad3e874f6c6"
      },
      "execution_count": 10,
      "outputs": [
        {
          "name": "stdout",
          "output_type": "stream",
          "text": [
            "Type text: 안녕\n"
          ]
        },
        {
          "output_type": "execute_result",
          "data": {
            "text/plain": [
              "<IPython.lib.display.Audio object>"
            ],
            "text/html": [
              "\n",
              "                <audio  controls=\"controls\" >\n",
              "                    <source src=\"data:audio/mpeg;base64,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\" type=\"audio/mpeg\" />\n",
              "                    Your browser does not support the audio element.\n",
              "                </audio>\n",
              "              "
            ]
          },
          "metadata": {},
          "execution_count": 10
        }
      ]
    },
    {
      "cell_type": "code",
      "source": [
        "# This function adds two numbers\n",
        "def add(x, y):\n",
        "    return x + y\n",
        "\n",
        "# This function subtracts two numbers\n",
        "def subtract(x, y):\n",
        "    return x - y\n",
        "\n",
        "# This function multiplies two numbers\n",
        "def multiply(x, y):\n",
        "    return x * y\n",
        "\n",
        "# This function divides two numbers\n",
        "def divide(x, y):\n",
        "    return x / y"
      ],
      "metadata": {
        "id": "X5JZfaU7QX4A"
      },
      "execution_count": 1,
      "outputs": []
    },
    {
      "cell_type": "markdown",
      "source": [
        "function, (class), module, package, and library\n",
        "(class) > functions\n",
        "\n",
        "Let's use the analogy of a toolbox:\n",
        "a module is a single tool, (e.g., random)\n",
        "a package is a toolbox containing multiple tools (e.g., gTTS)\n",
        "a library is a set of toolboxes designed for a specific purpose. (e.g., nltk - Natural Language Tool Kit) >> Next time"
      ],
      "metadata": {
        "id": "PqB2gc5QTHX_"
      }
    },
    {
      "cell_type": "code",
      "source": [
        "import random\n",
        "random.randint(1, 10) #random.randint(x,y)는 함수이므로 문법대로 사용해야 함.\n",
        "a1 = random.randint(1, 10)\n",
        "a1*10  #변수를 이용하면 결과값을 이용한 다른 연산이나 작업이 가능하다."
      ],
      "metadata": {
        "colab": {
          "base_uri": "https://localhost:8080/"
        },
        "id": "OVN3K0dOTPD7",
        "outputId": "25078c9a-7f38-4897-87eb-e843bc67172e"
      },
      "execution_count": 2,
      "outputs": [
        {
          "output_type": "execute_result",
          "data": {
            "text/plain": [
              "60"
            ]
          },
          "metadata": {},
          "execution_count": 2
        }
      ]
    },
    {
      "cell_type": "code",
      "source": [
        "mydict = {\"API\":\"Application Programming Interface\", \"GPT\":\"Generative Pretrained Transformer\"}\n",
        "mydict['API']"
      ],
      "metadata": {
        "colab": {
          "base_uri": "https://localhost:8080/",
          "height": 35
        },
        "id": "lAxu-9sLThis",
        "outputId": "c5fa1169-9ee7-4616-b5a0-f291a3183d93"
      },
      "execution_count": 3,
      "outputs": [
        {
          "output_type": "execute_result",
          "data": {
            "text/plain": [
              "'Application Programming Interface'"
            ],
            "application/vnd.google.colaboratory.intrinsic+json": {
              "type": "string"
            }
          },
          "metadata": {},
          "execution_count": 3
        }
      ]
    },
    {
      "cell_type": "code",
      "source": [
        "mydict['GPT']"
      ],
      "metadata": {
        "colab": {
          "base_uri": "https://localhost:8080/",
          "height": 35
        },
        "id": "eW_YKD9hTjCn",
        "outputId": "deb86238-049e-4fb5-fab6-86227dac9f09"
      },
      "execution_count": 4,
      "outputs": [
        {
          "output_type": "execute_result",
          "data": {
            "text/plain": [
              "'Generative Pretrained Transformer'"
            ],
            "application/vnd.google.colaboratory.intrinsic+json": {
              "type": "string"
            }
          },
          "metadata": {},
          "execution_count": 4
        }
      ]
    },
    {
      "cell_type": "code",
      "source": [
        "class_size = {\"Class A\": 25, \"Class B\": 30, \"Class C\": 32}\n",
        "class_size['Class C']"
      ],
      "metadata": {
        "colab": {
          "base_uri": "https://localhost:8080/"
        },
        "id": "31y3sR_pTm5Q",
        "outputId": "27e799cc-ede7-4081-85a3-774820828877"
      },
      "execution_count": 5,
      "outputs": [
        {
          "output_type": "execute_result",
          "data": {
            "text/plain": [
              "32"
            ]
          },
          "metadata": {},
          "execution_count": 5
        }
      ]
    }
  ]
}