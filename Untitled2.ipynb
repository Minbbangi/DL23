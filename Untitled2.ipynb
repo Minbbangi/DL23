{
  "nbformat": 4,
  "nbformat_minor": 0,
  "metadata": {
    "colab": {
      "provenance": [],
      "authorship_tag": "ABX9TyMkaum5Pr4dSPXCfxq+ufFH",
      "include_colab_link": true
    },
    "kernelspec": {
      "name": "python3",
      "display_name": "Python 3"
    },
    "language_info": {
      "name": "python"
    }
  },
  "cells": [
    {
      "cell_type": "markdown",
      "metadata": {
        "id": "view-in-github",
        "colab_type": "text"
      },
      "source": [
        "<a href=\"https://colab.research.google.com/github/Minbbangi/DL23/blob/main/Untitled2.ipynb\" target=\"_parent\"><img src=\"https://colab.research.google.com/assets/colab-badge.svg\" alt=\"Open In Colab\"/></a>"
      ]
    },
    {
      "cell_type": "code",
      "execution_count": 2,
      "metadata": {
        "colab": {
          "base_uri": "https://localhost:8080/"
        },
        "id": "QIvex_Bf5nxN",
        "outputId": "715146de-bbcd-4ee3-b0f6-267f3a25224c"
      },
      "outputs": [
        {
          "output_type": "stream",
          "name": "stdout",
          "text": [
            "recommend의 뜻은?   >>> 추천하다\n",
            "정답입니다.\n",
            "refuse의 뜻은?   >>> 거절하다\n",
            "정답입니다.\n",
            "install의 뜻은?   >>> 설치하다\n",
            "정답입니다.\n",
            "separate의 뜻은?   >>> 분리되다\n",
            "정답입니다.\n",
            "figure out의 뜻은?   >>> 이해하다\n",
            "정답입니다.\n",
            "monitor의 뜻은?   >>> 감시하다\n",
            "정답입니다.\n",
            "observe의 뜻은?   >>> 관찰하다\n",
            "정답입니다.\n",
            "promote의 뜻은?   >>> 촉진하다\n",
            "정답입니다.\n",
            "illegal의 뜻은?   >>> 불법적인\n",
            "정답입니다.\n",
            "neglect의 뜻은?   >>> 무시하다\n",
            "틀렸습니다. 정답은 방치하다입니다.\n"
          ]
        }
      ],
      "source": [
        "dict_eng = {\"recommend\" : \"추천하다\", \"refuse\" : \"거절하다\", \"install\" : \"설치하다\", \"separate\" : \"분리되다\", \"figure out\" : \"이해하다\", \"monitor\" : \"감시하다\", \"observe\" : \"관찰하다\", \"promote\" : \"촉진하다\", \"illegal\" : \"불법적인\", \"neglect\" : \"방치하다\"}\n",
        "\n",
        "\n",
        "for i in dict_eng :\n",
        "  user_input = input(f\"{i}의 뜻은?   >>> \")\n",
        "\n",
        "  if user_input == dict_eng[i] :\n",
        "    print(\"정답입니다.\")\n",
        "  else :\n",
        "    print(f\"틀렸습니다. 정답은 {dict_eng[i]}입니다.\")"
      ]
    }
  ]
}